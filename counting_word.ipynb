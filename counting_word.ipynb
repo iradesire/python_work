{
 "cells": [
  {
   "cell_type": "code",
   "execution_count": 1,
   "id": "2afbac25-d280-4b4f-a1e3-dd51f4306a04",
   "metadata": {},
   "outputs": [
    {
     "name": "stdin",
     "output_type": "stream",
     "text": [
      "type a paragraph: i am learning python at takenolab\n"
     ]
    },
    {
     "name": "stdout",
     "output_type": "stream",
     "text": [
      "the nums are6\n"
     ]
    }
   ],
   "source": [
    "word=input(\"type a paragraph:\")\n",
    "count=0\n",
    "for i in word:\n",
    "    if i==\" \" or i==\"\\n\":\n",
    "        count+=1\n",
    "print(f\"the nums are{count+1}\")"
   ]
  },
  {
   "cell_type": "code",
   "execution_count": null,
   "id": "c0394424-6e0b-476c-831b-13902bcf96f4",
   "metadata": {},
   "outputs": [],
   "source": []
  }
 ],
 "metadata": {
  "kernelspec": {
   "display_name": "Python 3 (ipykernel)",
   "language": "python",
   "name": "python3"
  },
  "language_info": {
   "codemirror_mode": {
    "name": "ipython",
    "version": 3
   },
   "file_extension": ".py",
   "mimetype": "text/x-python",
   "name": "python",
   "nbconvert_exporter": "python",
   "pygments_lexer": "ipython3",
   "version": "3.13.2"
  }
 },
 "nbformat": 4,
 "nbformat_minor": 5
}
